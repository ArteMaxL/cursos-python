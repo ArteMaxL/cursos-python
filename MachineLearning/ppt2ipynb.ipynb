{
 "cells": [
  {
   "cell_type": "code",
   "execution_count": 2,
   "metadata": {},
   "outputs": [
    {
     "name": "stdout",
     "output_type": "stream",
     "text": [
      "Collecting python-pptx\n",
      "  Downloading python-pptx-0.6.18.tar.gz (8.9 MB)\n",
      "\u001b[K     |████████████████████████████████| 8.9 MB 860 kB/s eta 0:00:01\n",
      "\u001b[?25hRequirement already satisfied: lxml>=3.1.0 in /home/matias/anaconda3/lib/python3.7/site-packages (from python-pptx) (4.5.0)\n",
      "Requirement already satisfied: Pillow>=3.3.2 in /home/matias/anaconda3/lib/python3.7/site-packages (from python-pptx) (7.1.2)\n",
      "Requirement already satisfied: XlsxWriter>=0.5.7 in /home/matias/anaconda3/lib/python3.7/site-packages (from python-pptx) (1.2.8)\n",
      "Building wheels for collected packages: python-pptx\n",
      "  Building wheel for python-pptx (setup.py) ... \u001b[?25ldone\n",
      "\u001b[?25h  Created wheel for python-pptx: filename=python_pptx-0.6.18-py3-none-any.whl size=275703 sha256=5da7e83f0d2088026af1691ec0ac917551dd5ee1e8de57d7ef26625bb6418ba4\n",
      "  Stored in directory: /home/matias/.cache/pip/wheels/68/99/55/8f6d0c128a214c26ac5b9f75ea68f6387feec407055458af1e\n",
      "Successfully built python-pptx\n",
      "Installing collected packages: python-pptx\n",
      "Successfully installed python-pptx-0.6.18\n"
     ]
    }
   ],
   "source": [
    "!pip install python-pptx"
   ]
  },
  {
   "cell_type": "code",
   "execution_count": 120,
   "metadata": {},
   "outputs": [],
   "source": [
    "from PIL import Image\n",
    "from io import BytesIO\n",
    "from IPython.display import display\n",
    "\n",
    "from pptx import Presentation\n",
    "from pptx.enum.shapes import MSO_SHAPE_TYPE\n",
    "\n",
    "import nbformat as nbf"
   ]
  },
  {
   "cell_type": "code",
   "execution_count": 121,
   "metadata": {},
   "outputs": [],
   "source": [
    "nb = nbf.v4.new_notebook()"
   ]
  },
  {
   "cell_type": "code",
   "execution_count": 122,
   "metadata": {},
   "outputs": [],
   "source": [
    "local_pptxFileList = [\"Introducción a ML.pptx\"]\n",
    "\n",
    "# carpeta donde guardar imagenes\n",
    "media_path = './media'\n",
    "\n",
    "n = 0\n",
    "for i in local_pptxFileList:\n",
    "    ppt = Presentation(i)\n",
    "    for slide in ppt.slides:\n",
    "        for shape in slide.shapes:\n",
    "            if shape.has_text_frame:\n",
    "                nb[\"cells\"].append(nbf.v4.new_markdown_cell(shape.text))\n",
    "            elif shape.shape_type == MSO_SHAPE_TYPE.PICTURE:                \n",
    "                image = shape.image\n",
    "                image_bytes = image.blob\n",
    "                img = Image.open(BytesIO(image.blob))\n",
    "                fp =  f'{media_path}/image{n}.{image.ext}'\n",
    "                with open(fp, 'wb') as f:\n",
    "                    f.write(image_bytes)\n",
    "                nb[\"cells\"].append(nbf.v4.new_markdown_cell(f'<img src={fp} width=400>'))\n",
    "                n += 1"
   ]
  },
  {
   "cell_type": "code",
   "execution_count": 125,
   "metadata": {},
   "outputs": [],
   "source": [
    "nbfp = 'notebook.ipynb'\n",
    "nbf.write(nb, nbfp)"
   ]
  },
  {
   "cell_type": "code",
   "execution_count": null,
   "metadata": {},
   "outputs": [],
   "source": [
    "with open('')"
   ]
  }
 ],
 "metadata": {
  "kernelspec": {
   "display_name": "Python 3",
   "language": "python",
   "name": "python3"
  },
  "language_info": {
   "codemirror_mode": {
    "name": "ipython",
    "version": 3
   },
   "file_extension": ".py",
   "mimetype": "text/x-python",
   "name": "python",
   "nbconvert_exporter": "python",
   "pygments_lexer": "ipython3",
   "version": "3.7.7"
  }
 },
 "nbformat": 4,
 "nbformat_minor": 4
}
