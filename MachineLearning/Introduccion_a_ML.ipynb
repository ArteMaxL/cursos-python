{
 "cells": [
  {
   "cell_type": "markdown",
   "metadata": {
    "slideshow": {
     "slide_type": "-"
    }
   },
   "source": [
    "<a href=\"https://colab.research.google.com/github/institutohumai/cursos-python/blob/ml0/MachineLearning/Introduccion_a_ML.ipynb\"> <img src='https://colab.research.google.com/assets/colab-badge.svg' /> </a>\n",
    "    <div align=\"center\"> Recordá abrir en una nueva pestaña </div>\n",
    "    "
   ]
  },
  {
   "cell_type": "markdown",
   "metadata": {
    "slideshow": {
     "slide_type": "slide"
    }
   },
   "source": [
    "### Introducción a Machine Learning"
   ]
  },
  {
   "cell_type": "markdown",
   "metadata": {
    "slideshow": {
     "slide_type": "fragment"
    }
   },
   "source": [
    "- ¿Qué es Machine Learning?\n",
    "    - Definiciones: ML, DL, aprendizaje, atributos, observaciones, target o label...\n",
    "- El proceso de ML\n",
    "  - Feature engineering, modelos supervisados y no supervisados, train/test split, cross validation, evaluación de modelos\n",
    "- Etapas de un proyecto de ML\n",
    "    - Framing del problema de negocio, integración de datos, modelado, puesta en producción y monitoreo.\n",
    "- Casos de Aplicación\n",
    "    - Fraude, churn, upselling, cross-selling, segmentación, clustering geográfico."
   ]
  },
  {
   "cell_type": "markdown",
   "metadata": {
    "slideshow": {
     "slide_type": "slide"
    }
   },
   "source": [
    "# ¿Qué es Machine Learning?"
   ]
  },
  {
   "cell_type": "markdown",
   "metadata": {
    "slideshow": {
     "slide_type": "fragment"
    }
   },
   "source": [
    "¿Cómo podríamos clasificarlas con programación tradicional?"
   ]
  },
  {
   "cell_type": "markdown",
   "metadata": {
    "slideshow": {
     "slide_type": "fragment"
    }
   },
   "source": [
    "<center>\n",
    "<table><tr>\n",
    "    <td><img src=https://github.com/institutohumai/cursos-python/raw/ml0/MachineLearning/media/image4.png width=400></td>\n",
    "    <td><img src=https://github.com/institutohumai/cursos-python/raw/ml0/MachineLearning/media/image5.png width=400></td>\n",
    "    </tr>\n",
    "</table>\n",
    "<center>"
   ]
  },
  {
   "cell_type": "markdown",
   "metadata": {
    "slideshow": {
     "slide_type": "slide"
    }
   },
   "source": [
    "### Machine Learning, Inteligencia Artificial y Data Science"
   ]
  },
  {
   "cell_type": "markdown",
   "metadata": {
    "slideshow": {
     "slide_type": "fragment"
    }
   },
   "source": [
    "La “Inteligencia Artificial Simbólica” dominó el paradigma de IA desde 1950 hasta la parte de los ‘80. Su pico de popularidad: boom de los “sistemas expertos”. "
   ]
  },
  {
   "cell_type": "markdown",
   "metadata": {
    "slideshow": {
     "slide_type": "fragment"
    }
   },
   "source": [
    "Programación clásica (el paradigma de la IA simbólica): \n",
    "Los humanos ingresan reglas (un programa), datos a ser procesados según esas reglas, y de este proceso resultan las respuestas esperadas. \n",
    "\n",
    "Machine Learning: los humanos ingresan datos como input además de las respuestas esperadas, y las reglas surgen como output. Estas reglas pueden luego ser aplicadas a nuevos datos para producir respuestas originales."
   ]
  },
  {
   "cell_type": "markdown",
   "metadata": {
    "slideshow": {
     "slide_type": "subslide"
    }
   },
   "source": [
    "<center><img src=https://github.com/institutohumai/cursos-python/raw/ml0/MachineLearning/media/image7.png width=600></center>"
   ]
  },
  {
   "cell_type": "markdown",
   "metadata": {
    "slideshow": {
     "slide_type": "slide"
    }
   },
   "source": [
    "<center><img src=https://github.com/institutohumai/cursos-python/raw/ml0/MachineLearning/media/image6.png width=700></center>"
   ]
  },
  {
   "cell_type": "markdown",
   "metadata": {
    "slideshow": {
     "slide_type": "fragment"
    }
   },
   "source": [
    "*Decimos que un programa “aprende” si para cierta tarea, su performance mejora cuando crece la experiencia.* T. Mitchell\n"
   ]
  },
  {
   "cell_type": "markdown",
   "metadata": {
    "slideshow": {
     "slide_type": "subslide"
    }
   },
   "source": [
    "El aprendizaje entra en juego cuando le damos a estos modelos parámetros que pueden modificarse y que se adaptan a los datos observados de manera automática; de esta forma, puede considerarse que el algoritmo aprende de los datos. \n",
    "Una vez que estos modelos han sido ajustados a datos observados previamente, pueden ser usados para predecir y entender aspectos de datos nuevos. \n"
   ]
  },
  {
   "cell_type": "markdown",
   "metadata": {
    "slideshow": {
     "slide_type": "fragment"
    }
   },
   "source": [
    "<center><img src=https://github.com/institutohumai/cursos-python/raw/ml0/MachineLearning/media/image9.png width=400></center>"
   ]
  },
  {
   "cell_type": "markdown",
   "metadata": {
    "slideshow": {
     "slide_type": "subslide"
    }
   },
   "source": [
    "¿Cuáles son algunos ejemplos de IA que no son ML?\n",
    "\n",
    "- Sistemas basados en reglas\n",
    "- Demostración automática (proof solvers)\n",
    "- Optimización convexa en investigación de Operaciones\n",
    "- Computer vision tradicional\n",
    "\n",
    "¿Y DS que no es ML?\n",
    "\n",
    "- Visualización\n",
    "- EDA\n",
    "- Inferencia Estadística \n",
    "- Análisis de audio \n",
    "- Métodos econométricos\n",
    "- Biometría\n",
    "- …?"
   ]
  },
  {
   "cell_type": "markdown",
   "metadata": {
    "slideshow": {
     "slide_type": "slide"
    }
   },
   "source": [
    "## Factores influyentes"
   ]
  },
  {
   "cell_type": "markdown",
   "metadata": {
    "slideshow": {
     "slide_type": "fragment"
    }
   },
   "source": [
    "- Enorme cantidad de datos generados por minuto\n",
    "- Posibilidad de trabajar sobre datos desestructurados\n",
    "- Capacidad computacional\n",
    "\n"
   ]
  },
  {
   "cell_type": "markdown",
   "metadata": {
    "slideshow": {
     "slide_type": "fragment"
    }
   },
   "source": [
    "<center><img src=https://github.com/institutohumai/cursos-python/raw/ml0/MachineLearning/media/image10.png width=400></center>"
   ]
  },
  {
   "cell_type": "markdown",
   "metadata": {
    "slideshow": {
     "slide_type": "subslide"
    }
   },
   "source": [
    "<center><img src=https://github.com/institutohumai/cursos-python/raw/ml0/MachineLearning/media/image11.png width=600></center>"
   ]
  },
  {
   "cell_type": "markdown",
   "metadata": {
    "slideshow": {
     "slide_type": "slide"
    }
   },
   "source": [
    "### No es todo nuevo"
   ]
  },
  {
   "cell_type": "markdown",
   "metadata": {
    "slideshow": {
     "slide_type": "fragment"
    }
   },
   "source": [
    "- Regla de Bayes (Bayes, 1763) de probabilidad\n",
    "- Regresión por Mínimos Cuadrados (Gauss, 1795) de astronomía\n",
    "- Máxima verosimilitud (Fisher, 1922) de estadística\n",
    "- Redes neuronales artificiales (McCulloch/Pitts, 1943) de neurociencias\n",
    "- Juegos Minimax (von Neumann, 1944) de economía\n",
    "- Descenso de gradiente estocástico (Robbins/Monro, 1951) de optimización\n",
    "- Búsqueda de costo uniforme (Dijkstra, 1956) de algoritmos\n",
    "- Iteración de valores (Bellman, 1957) de teoría de control"
   ]
  },
  {
   "cell_type": "markdown",
   "metadata": {
    "slideshow": {
     "slide_type": "slide"
    }
   },
   "source": [
    "### Machine Learning"
   ]
  },
  {
   "cell_type": "markdown",
   "metadata": {
    "slideshow": {
     "slide_type": "fragment"
    }
   },
   "source": [
    "Un modelo de ML es una función matemática. El **aprendizaje** consiste en ajustar los parámetros del modelo de modo que el output se acerce al *target* correspondiente de cada input. "
   ]
  },
  {
   "cell_type": "markdown",
   "metadata": {
    "slideshow": {
     "slide_type": "fragment"
    }
   },
   "source": [
    "<center><img src=https://github.com/institutohumai/cursos-python/raw/ml0/MachineLearning/media/image12.gif width=700></center>\n",
    "\n",
    "https://www.cs.ryerson.ca/~aharley/vis/conv/"
   ]
  },
  {
   "cell_type": "markdown",
   "metadata": {
    "slideshow": {
     "slide_type": "subslide"
    }
   },
   "source": [
    "\n",
    "Existen ya unos cuantos hitos acumulados de IA en los últimos años. En el programa Jeopardy! (IBM Watson, 2011), el juego Go (DeepMind, AlphaGo, 2016), el multijugador online masivo Dota 2 (OpenAI, 2019), Poker (CMU and Facebook, 2019).\n",
    "\n",
    "También contamos con sistemas que rinden de manera excepcional en lectura y comprensión de lenguaje natural, reconocimiento del discurso, reconocimiento facial, o sistemas de imagen médicos. "
   ]
  },
  {
   "cell_type": "markdown",
   "metadata": {
    "slideshow": {
     "slide_type": "slide"
    }
   },
   "source": [
    "## Algunos ejemplos sci-fi"
   ]
  },
  {
   "cell_type": "markdown",
   "metadata": {
    "slideshow": {
     "slide_type": "subslide"
    }
   },
   "source": [
    "Instance segmentation\n",
    "\n",
    "<center><img src=https://miro.medium.com/max/2472/1*QKfIOzB-N1GrhULIvVxkQg.gif width=800></center>"
   ]
  },
  {
   "cell_type": "markdown",
   "metadata": {
    "slideshow": {
     "slide_type": "subslide"
    }
   },
   "source": [
    "Robótica\n",
    "\n",
    "<!--<img src=https://github.com/institutohumai/cursos-python/raw/ml0/MachineLearning/media/boston.png width=400>\n",
    "<img src=https://github.com/institutohumai/cursos-python/raw/ml0/MachineLearning/media/image16.gif width=400>-->\n",
    "\n",
    "<center><img src=https://bgr.com/wp-content/uploads/2019/10/gif.gif width=800></center>"
   ]
  },
  {
   "cell_type": "markdown",
   "metadata": {
    "slideshow": {
     "slide_type": "subslide"
    }
   },
   "source": [
    "Nuevas posibilidades...\n",
    "\n",
    "<center><img src=https://github.com/institutohumai/cursos-python/raw/ml0/MachineLearning/media/image17.png width=800></center>"
   ]
  },
  {
   "cell_type": "markdown",
   "metadata": {
    "slideshow": {
     "slide_type": "subslide"
    }
   },
   "source": [
    "Transferencia de estilo\n",
    "\n",
    "<center><img src=https://github.com/institutohumai/cursos-python/raw/ml0/MachineLearning/media/image18.png width=600></center>"
   ]
  },
  {
   "cell_type": "markdown",
   "metadata": {
    "slideshow": {
     "slide_type": "subslide"
    }
   },
   "source": [
    "Speech2face\n",
    "\n",
    "<center><img src=https://github.com/institutohumai/cursos-python/raw/ml0/MachineLearning/media/image20.png width=800></center>"
   ]
  },
  {
   "cell_type": "markdown",
   "metadata": {
    "slideshow": {
     "slide_type": "subslide"
    }
   },
   "source": [
    "GPT-3 \n",
    "\n",
    "<center><img src=https://github.com/institutohumai/cursos-python/raw/ml0/MachineLearning/media/image21.gif width=800></center>"
   ]
  },
  {
   "cell_type": "markdown",
   "metadata": {
    "slideshow": {
     "slide_type": "subslide"
    }
   },
   "source": [
    "Go \n",
    "\n",
    "<center><img src=https://c.files.bbci.co.uk/6DFD/production/_88775182_b810d6ed99.jpg width=800></center>"
   ]
  },
  {
   "cell_type": "markdown",
   "metadata": {
    "slideshow": {
     "slide_type": "subslide"
    }
   },
   "source": [
    "Poker\n",
    "\n",
    "<center><img src=https://i.ytimg.com/vi/wInvN096he8/maxresdefault.jpg width=800></center>"
   ]
  },
  {
   "cell_type": "markdown",
   "metadata": {
    "slideshow": {
     "slide_type": "fragment"
    }
   },
   "source": [
    "Volviendo a lo pragmático..."
   ]
  },
  {
   "cell_type": "markdown",
   "metadata": {
    "slideshow": {
     "slide_type": "slide"
    }
   },
   "source": [
    "### Conceptos Básicos"
   ]
  },
  {
   "cell_type": "markdown",
   "metadata": {
    "slideshow": {
     "slide_type": "fragment"
    }
   },
   "source": [
    "En nuestro caso la experiencia es un conjunto de observaciones con atributos. En algunos casos, estas observaciones tienen una variable target que queremos predecir. El target es optativo.\n",
    "Para que los modelos de Machine Learning aprendan es necesario que la información esté organizada de manera matricial como a continuación:"
   ]
  },
  {
   "cell_type": "markdown",
   "metadata": {
    "slideshow": {
     "slide_type": "fragment"
    }
   },
   "source": [
    "<center><img src=https://github.com/institutohumai/cursos-python/raw/ml0/MachineLearning/media/basics.png width=900></center>"
   ]
  },
  {
   "cell_type": "markdown",
   "metadata": {
    "slideshow": {
     "slide_type": "slide"
    }
   },
   "source": [
    "Los modelos de ML sólo son capaces de aprender de representaciones numéricas.\n",
    "¿Cómo podremos entonces trabajar con texto, categorías o imágenes?"
   ]
  },
  {
   "cell_type": "markdown",
   "metadata": {
    "slideshow": {
     "slide_type": "fragment"
    }
   },
   "source": [
    "<center><img src=https://github.com/institutohumai/cursos-python/raw/ml0/MachineLearning/media/image30.png width=400></center>"
   ]
  },
  {
   "cell_type": "markdown",
   "metadata": {
    "slideshow": {
     "slide_type": "subslide"
    }
   },
   "source": [
    "Categorías: One Hot Encoding o variables dummies"
   ]
  },
  {
   "cell_type": "markdown",
   "metadata": {
    "slideshow": {
     "slide_type": "fragment"
    }
   },
   "source": [
    "<center><img src=https://github.com/institutohumai/cursos-python/raw/ml0/MachineLearning/media/image28.png width=800></center>"
   ]
  },
  {
   "cell_type": "markdown",
   "metadata": {
    "slideshow": {
     "slide_type": "subslide"
    }
   },
   "source": [
    "Texto: Bag of Word"
   ]
  },
  {
   "cell_type": "markdown",
   "metadata": {
    "slideshow": {
     "slide_type": "fragment"
    }
   },
   "source": [
    "<center><img src=https://github.com/institutohumai/cursos-python/raw/ml0/MachineLearning/media/image29.png width=900></center>"
   ]
  },
  {
   "cell_type": "markdown",
   "metadata": {
    "slideshow": {
     "slide_type": "slide"
    }
   },
   "source": [
    "## Entrenamiento"
   ]
  },
  {
   "cell_type": "markdown",
   "metadata": {
    "slideshow": {
     "slide_type": "fragment"
    }
   },
   "source": [
    "Ya tengo mis datos representados como vectores numéricos o “features” y etiquetas o “labels”. \n",
    "\n",
    "¿Cómo entreno un modelo que capture las relaciones entre los mismos?"
   ]
  },
  {
   "cell_type": "markdown",
   "metadata": {},
   "source": [
    "## Tipos de tareas de ML"
   ]
  },
  {
   "cell_type": "markdown",
   "metadata": {},
   "source": [
    "<center><img src=https://github.com/institutohumai/cursos-python/raw/ml0/MachineLearning/media/tipos_modelos.png width=500></center>"
   ]
  },
  {
   "cell_type": "markdown",
   "metadata": {
    "slideshow": {
     "slide_type": "subslide"
    }
   },
   "source": [
    "### Modelos supervisados\n",
    "\n",
    "- Regresión lineal\n",
    "- Regresión logística\n",
    "- KNN (K nearest neighbours)\n",
    "- Y muchos más..."
   ]
  },
  {
   "cell_type": "markdown",
   "metadata": {
    "slideshow": {
     "slide_type": "subslide"
    }
   },
   "source": [
    "Modelos basados en árboles: en general los mejores predictores.\n",
    "\n",
    "<center><img src=https://github.com/institutohumai/cursos-python/raw/ml0/MachineLearning/media/image33.png width=600></center>"
   ]
  },
  {
   "cell_type": "markdown",
   "metadata": {
    "slideshow": {
     "slide_type": "subslide"
    }
   },
   "source": [
    "Los modelos de Machine Learning más performantes, se basan en “ensamblar” muchos árboles simples. Sirven tanto para clasificación como para regresión. \n",
    "\n",
    "- Random Forest\n",
    "- XGBoost\n",
    "- LightGBM\n",
    "- Tree Gradient Boosting"
   ]
  },
  {
   "cell_type": "markdown",
   "metadata": {
    "slideshow": {
     "slide_type": "slide"
    }
   },
   "source": [
    "## Modelos no supervisados"
   ]
  },
  {
   "cell_type": "markdown",
   "metadata": {
    "slideshow": {
     "slide_type": "fragment"
    }
   },
   "source": [
    "KMeans (clustering)\n",
    "\n",
    "- Asignar centroides al azar\n",
    "- Calcular qué punto pertenece a cada cluster\n",
    "- \"Promediar\" todos los puntos en cada dimensión para recalcular el centroide\n",
    "- Repetir hasta que los puntos dejen de cambiar de cluster. "
   ]
  },
  {
   "cell_type": "markdown",
   "metadata": {
    "slideshow": {
     "slide_type": "fragment"
    }
   },
   "source": [
    "<center><img src=https://github.com/institutohumai/cursos-python/raw/ml0/MachineLearning/media/image34.png width=400></center>"
   ]
  },
  {
   "cell_type": "markdown",
   "metadata": {
    "slideshow": {
     "slide_type": "subslide"
    }
   },
   "source": [
    "PCA (Reducción de dimensiones)"
   ]
  },
  {
   "cell_type": "markdown",
   "metadata": {
    "slideshow": {
     "slide_type": "fragment"
    }
   },
   "source": [
    "<center><img src=https://github.com/institutohumai/cursos-python/raw/ml0/MachineLearning/media/image35.png width=400></center>"
   ]
  },
  {
   "cell_type": "markdown",
   "metadata": {
    "slideshow": {
     "slide_type": "slide"
    }
   },
   "source": [
    "### Generalización y sobreajuste"
   ]
  },
  {
   "cell_type": "markdown",
   "metadata": {
    "slideshow": {
     "slide_type": "fragment"
    }
   },
   "source": [
    "Ya tengo un modelo que me permite predecir, clusterizar o reducir dimensiones.\n",
    "\n",
    "¿Cómo puedo saber cuán bien va a funcionar sobre datos nuevos?"
   ]
  },
  {
   "cell_type": "code",
   "execution_count": 3,
   "metadata": {
    "slideshow": {
     "slide_type": "subslide"
    }
   },
   "outputs": [
    {
     "data": {
      "image/png": "[encoded data removed]",
      "text/plain": [
       "<Figure size 432x288 with 1 Axes>"
      ]
     },
     "metadata": {
      "needs_background": "light"
     },
     "output_type": "display_data"
    }
   ],
   "source": [
    "import numpy as np\n",
    "from matplotlib.cm import get_cmap\n",
    "import matplotlib.pyplot as plt\n",
    "from sklearn.linear_model import LinearRegression\n",
    "from sklearn.preprocessing import PolynomialFeatures\n",
    "\n",
    "def f(x):\n",
    "    \"\"\"Función a aproximar por interpolación polinomial\"\"\"\n",
    "    return x * np.sin(x)\n",
    "\n",
    "grados = [1, 3, 20]\n",
    "\n",
    "# Generamos algunos puntos de la función\n",
    "x = np.linspace(0, 10, 100)\n",
    "np.random.shuffle(x)\n",
    "x = np.sort(x[:35])\n",
    "y = f(x) + np.random.normal(size=x.shape) * 2 \n",
    "\n",
    "# Puntos para plotear\n",
    "x_plot = np.linspace(0, 10, 100)\n",
    "\n",
    "# Pasamos a formato matriz\n",
    "X = x[:, np.newaxis]\n",
    "X_plot = x_plot[:, np.newaxis]\n",
    "\n",
    "plt.scatter(x, y, color='navy', s=10, marker='o')\n",
    "\n",
    "for i, grado in enumerate(grados):\n",
    "    poly = PolynomialFeatures(grado)\n",
    "    X_poly = poly.fit_transform(X)\n",
    "    \n",
    "    model = LinearRegression()\n",
    "    model.fit(X_poly, y) \n",
    "    \n",
    "    y_plot = model.predict(poly.fit_transform(X_plot))\n",
    "    \n",
    "    plt.plot(x_plot, y_plot, color=get_cmap('Set1')(i), label=f\"grado {grado}\")\n",
    "\n",
    "plt.legend(bbox_to_anchor=(1.05, 1), loc='upper left')\n",
    "plt.ylim(-15,15)\n",
    "plt.show()"
   ]
  },
  {
   "cell_type": "markdown",
   "metadata": {
    "slideshow": {
     "slide_type": "slide"
    }
   },
   "source": [
    "## Evaluación"
   ]
  },
  {
   "cell_type": "markdown",
   "metadata": {
    "slideshow": {
     "slide_type": "fragment"
    }
   },
   "source": [
    "¡Cuidado! Es imposible usar el futuro para predecir el presente. \n",
    "\n",
    "Cuando los modelos incorporan información que naturalmente no debería estar disponible este problema se llama “information leak”.\n",
    "\n",
    "Aquí un caso famoso de information leak que tomó conocimiento público: https://liaa.dc.uba.ar/es/sobre-la-prediccion-automatica-de-embarazos-adolescentes/"
   ]
  },
  {
   "cell_type": "markdown",
   "metadata": {
    "slideshow": {
     "slide_type": "subslide"
    }
   },
   "source": [
    "Cross Validation"
   ]
  },
  {
   "cell_type": "markdown",
   "metadata": {
    "slideshow": {
     "slide_type": "fragment"
    }
   },
   "source": [
    "<center><img src=https://github.com/institutohumai/cursos-python/raw/ml0/MachineLearning/media/cv.png width=400></center>"
   ]
  },
  {
   "cell_type": "markdown",
   "metadata": {
    "slideshow": {
     "slide_type": "subslide"
    }
   },
   "source": [
    "Holdout sets para la evaluación (series de tiempo y datos de panel)"
   ]
  },
  {
   "cell_type": "markdown",
   "metadata": {
    "slideshow": {
     "slide_type": "fragment"
    }
   },
   "source": [
    "<center><img src=https://github.com/institutohumai/cursos-python/raw/ml0/MachineLearning/media/image41.png width=400></center>"
   ]
  },
  {
   "cell_type": "markdown",
   "metadata": {
    "slideshow": {
     "slide_type": "slide"
    }
   },
   "source": [
    "### Métricas de evaluación en problemas supervisados"
   ]
  },
  {
   "cell_type": "markdown",
   "metadata": {},
   "source": [
    "Regresión"
   ]
  },
  {
   "cell_type": "markdown",
   "metadata": {},
   "source": [
    "<img src=https://github.com/institutohumai/cursos-python/raw/ml0/MachineLearning/media/image47.png width=400>"
   ]
  },
  {
   "cell_type": "markdown",
   "metadata": {
    "slideshow": {
     "slide_type": "subslide"
    }
   },
   "source": [
    "Clasificación\n",
    "\n",
    "<center><img src=https://github.com/institutohumai/cursos-python/raw/ml0/MachineLearning/media/image42.png width=400></center>"
   ]
  },
  {
   "cell_type": "markdown",
   "metadata": {
    "slideshow": {
     "slide_type": "subslide"
    }
   },
   "source": [
    "<center><img src=https://github.com/institutohumai/cursos-python/raw/ml0/MachineLearning/media/image43.png width=400></center>"
   ]
  },
  {
   "cell_type": "markdown",
   "metadata": {
    "slideshow": {
     "slide_type": "subslide"
    }
   },
   "source": [
    "Matriz de confusión"
   ]
  },
  {
   "cell_type": "markdown",
   "metadata": {
    "slideshow": {
     "slide_type": "fragment"
    }
   },
   "source": [
    "<center><img src=https://github.com/institutohumai/cursos-python/raw/ml0/MachineLearning/media/image44.png width=400></center>"
   ]
  },
  {
   "cell_type": "markdown",
   "metadata": {
    "slideshow": {
     "slide_type": "subslide"
    }
   },
   "source": [
    "Clasificación binaria: AUC (área debajo de la curva)\n",
    "\n",
    "Modelo perfecto:\n",
    "AUC = 1\n",
    "\n",
    "Ordenamiento de los casos al azar:\n",
    "AUC = 0.5\n",
    "\n",
    "Modelo que predice exactamente lo contrario a lo real:\n",
    "AUC = 0"
   ]
  },
  {
   "cell_type": "markdown",
   "metadata": {
    "slideshow": {
     "slide_type": "fragment"
    }
   },
   "source": [
    "<center><img src=https://github.com/institutohumai/cursos-python/raw/ml0/MachineLearning/media/image45.png width=400></center>"
   ]
  },
  {
   "cell_type": "markdown",
   "metadata": {
    "slideshow": {
     "slide_type": "fragment"
    }
   },
   "source": [
    "<img src=https://github.com/institutohumai/cursos-python/raw/ml0/MachineLearning/media/image46.png width=400>"
   ]
  },
  {
   "cell_type": "markdown",
   "metadata": {
    "slideshow": {
     "slide_type": "slide"
    }
   },
   "source": [
    "# En resumen:"
   ]
  },
  {
   "cell_type": "markdown",
   "metadata": {
    "slideshow": {
     "slide_type": "fragment"
    }
   },
   "source": [
    "Para entrenar un modelo se necesita:\n",
    "\n",
    "- 1) Crear buenas características numéricas o “features” que representen las observaciones \n",
    "- 2) Conservar un conjunto de datos para evaluación\n",
    "- 3) Elegir un algoritmo que resuelva nuestro problema\n",
    "- 4) Evaluar los resultados\n",
    "- 5) Desplegar el modelo “en producción”"
   ]
  },
  {
   "cell_type": "markdown",
   "metadata": {
    "slideshow": {
     "slide_type": "slide"
    }
   },
   "source": [
    "### Casos: problemas supervisados"
   ]
  },
  {
   "cell_type": "markdown",
   "metadata": {
    "slideshow": {
     "slide_type": "fragment"
    }
   },
   "source": [
    "**Predicción de propensión a conversión online**\n",
    "\n",
    "Objetivo: predecir qué tan probable es que un visitante a una app realice una conversión. Ésta puede ser una compra online, un clic, completar un formulario, etc.\n",
    "Esto se usa para decidir cuánto pagar en una subasta, asignar un precio o producto dinámicamente, etc."
   ]
  },
  {
   "cell_type": "markdown",
   "metadata": {
    "slideshow": {
     "slide_type": "fragment"
    }
   },
   "source": [
    "**Modelos de upselling/cross-selling**"
   ]
  },
  {
   "cell_type": "markdown",
   "metadata": {
    "slideshow": {
     "slide_type": "fragment"
    }
   },
   "source": [
    "Objetivo: predecir la probabilidad de que un cliente compre un producto más caro (upselling) o complementario (cross-selling). \n",
    "Esto se puede integrar a un CRM o una herramienta de marketing para realizar campañas automáticamente."
   ]
  },
  {
   "cell_type": "markdown",
   "metadata": {
    "slideshow": {
     "slide_type": "fragment"
    }
   },
   "source": [
    "**Predicción de churn**"
   ]
  },
  {
   "cell_type": "markdown",
   "metadata": {
    "slideshow": {
     "slide_type": "fragment"
    }
   },
   "source": [
    "Objetivo: predecir la probabilidad de que un cliente se dé de baja en determinado período.\n",
    "Sabiendo quiénes son los más propensos podemos generar un incentivo para impedirlo.\n"
   ]
  },
  {
   "cell_type": "markdown",
   "metadata": {
    "slideshow": {
     "slide_type": "fragment"
    }
   },
   "source": [
    "**Detección de fraude**"
   ]
  },
  {
   "cell_type": "markdown",
   "metadata": {
    "slideshow": {
     "slide_type": "fragment"
    }
   },
   "source": [
    "Objetivo: predecir la probabilidad de que una transacción sea fraudulenta\n"
   ]
  },
  {
   "cell_type": "markdown",
   "metadata": {
    "slideshow": {
     "slide_type": "fragment"
    }
   },
   "source": [
    "**Sistemas de recomendación**"
   ]
  },
  {
   "cell_type": "markdown",
   "metadata": {
    "slideshow": {
     "slide_type": "fragment"
    }
   },
   "source": [
    "\n",
    "Objetivo: optimizar qué productos ofrecer en una plataforma de ventas online"
   ]
  },
  {
   "cell_type": "markdown",
   "metadata": {
    "slideshow": {
     "slide_type": "fragment"
    }
   },
   "source": [
    "<div class=\"row\">\n",
    "    <img src=https://github.com/institutohumai/cursos-python/raw/ml0/MachineLearning/media/image53.png width=100>\n",
    "    <img src=https://github.com/institutohumai/cursos-python/raw/ml0/MachineLearning/media/image54.png width=100>\n",
    "    <img src=https://github.com/institutohumai/cursos-python/raw/ml0/MachineLearning/media/ml-logo.png width=100>\n",
    "    <img src=https://github.com/institutohumai/cursos-python/raw/ml0/MachineLearning/media/image56.png width=100>\n",
    "    <img src=https://github.com/institutohumai/cursos-python/raw/ml0/MachineLearning/media/image57.jpg width=100>\n",
    "</div>"
   ]
  },
  {
   "cell_type": "markdown",
   "metadata": {
    "slideshow": {
     "slide_type": "slide"
    }
   },
   "source": [
    "## Casos: problemas no supervisados"
   ]
  },
  {
   "cell_type": "markdown",
   "metadata": {
    "slideshow": {
     "slide_type": "fragment"
    }
   },
   "source": [
    "**Segmentación automática**\n",
    "\n",
    "Generación de segmentos a partir de información demográfica y de comportamiento.\n",
    "Con esta técnica se pueden generar K segmentos automáticamente, de modo de accionar de manera distinta sobre cada uno de ellos."
   ]
  },
  {
   "cell_type": "markdown",
   "metadata": {
    "slideshow": {
     "slide_type": "subslide"
    }
   },
   "source": [
    "**Clustering geográfico**\n",
    "\n",
    "Encontrar patrones geográficos automáticamente.\n",
    "Por ejemplo: paradas de colectivos, transacciones de clientes,etc.\n",
    "\n",
    "<img src=https://github.com/institutohumai/cursos-python/raw/ml0/MachineLearning/media/geo.png width=400>"
   ]
  },
  {
   "cell_type": "markdown",
   "metadata": {
    "slideshow": {
     "slide_type": "slide"
    }
   },
   "source": [
    "### El proceso real de los productos basados en ML"
   ]
  },
  {
   "cell_type": "markdown",
   "metadata": {
    "slideshow": {
     "slide_type": "fragment"
    }
   },
   "source": [
    "<img src=https://github.com/institutohumai/cursos-python/raw/ml0/MachineLearning/media/image60.png width=800>"
   ]
  },
  {
   "cell_type": "markdown",
   "metadata": {
    "slideshow": {
     "slide_type": "slide"
    }
   },
   "source": [
    "### Equipo de data"
   ]
  },
  {
   "cell_type": "markdown",
   "metadata": {
    "slideshow": {
     "slide_type": "fragment"
    }
   },
   "source": [
    "<img src=https://github.com/institutohumai/cursos-python/raw/ml0/MachineLearning/media/image61.png width=800>"
   ]
  },
  {
   "cell_type": "markdown",
   "metadata": {
    "slideshow": {
     "slide_type": "slide"
    }
   },
   "source": [
    "<img src=https://github.com/institutohumai/cursos-python/raw/ml0/MachineLearning/media/image12.png width=800>"
   ]
  }
 ],
 "metadata": {
  "celltoolbar": "Slideshow",
  "kernelspec": {
   "display_name": "Python 3",
   "language": "python",
   "name": "python3"
  },
  "language_info": {
   "codemirror_mode": {
    "name": "ipython",
    "version": 3
   },
   "file_extension": ".py",
   "mimetype": "text/x-python",
   "name": "python",
   "nbconvert_exporter": "python",
   "pygments_lexer": "ipython3",
   "version": "3.7.7"
  }
 },
 "nbformat": 4,
 "nbformat_minor": 4
}
